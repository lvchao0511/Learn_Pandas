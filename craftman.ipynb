{
 "cells": [
  {
   "cell_type": "markdown",
   "metadata": {},
   "source": [
    "# 闭包\n",
    "\n",
    "正常情况下，当Python完成一次函数执行后，本次使用的局部变量就会在调用结束后被回收，无法继续访问。但是如果使用“函数套函数”的方式，在外层函数执行结束后，返回内嵌函数，后者就可以继续访问前者的局部变量，形成了一个闭包结构。\n",
    "`nonlocal`用来标注变量来自上层作用域，如不标明，内层函数将无法直接修改外层函数变量。"
   ]
  },
  {
   "cell_type": "code",
   "execution_count": 25,
   "metadata": {},
   "outputs": [],
   "source": [
    "def counter():\n",
    "    value = 0\n",
    "    def _counter():\n",
    "        nonlocal value\n",
    "        value += 1\n",
    "        return value\n",
    "    return _counter\n",
    "\n",
    "c = counter()"
   ]
  },
  {
   "cell_type": "code",
   "execution_count": 30,
   "metadata": {},
   "outputs": [
    {
     "data": {
      "text/plain": [
       "5"
      ]
     },
     "execution_count": 30,
     "metadata": {},
     "output_type": "execute_result"
    }
   ],
   "source": [
    "c()"
   ]
  },
  {
   "cell_type": "markdown",
   "metadata": {},
   "source": [
    "# 装饰器\n",
    "通过包装目标函数来修改其行为的特殊高阶函数，是利用函数的闭包原理实现的。\n",
    "有无参数装饰器和有参数装饰器两种。\n",
    "首先是无参数装饰器，如下例，当其他函数应用了timer装饰器后，包装函数decorated会作为装饰器的返回值，完全替代被装饰的原始函数func。"
   ]
  },
  {
   "cell_type": "code",
   "execution_count": 31,
   "metadata": {},
   "outputs": [],
   "source": [
    "import time\n",
    "\n",
    "def timer(func):\n",
    "    \"\"\"装饰器：打印函数耗时\"\"\"\n",
    "\n",
    "    def decorated(*args, **kwargs):\n",
    "        st = time.perf_counter()\n",
    "        ret = func(*args, **kwargs)    \n",
    "        print(\"time cost: {} seconds\".format(time.perf_counter()-st))\n",
    "        return ret\n",
    "    return decorated"
   ]
  },
  {
   "cell_type": "code",
   "execution_count": 32,
   "metadata": {},
   "outputs": [],
   "source": [
    "import random\n",
    "@timer\n",
    "def random_sleep():\n",
    "    time.sleep(random.random())"
   ]
  },
  {
   "cell_type": "code",
   "execution_count": 40,
   "metadata": {},
   "outputs": [
    {
     "name": "stdout",
     "output_type": "stream",
     "text": [
      "time cost: 0.7741297999999688 seconds\n"
     ]
    }
   ],
   "source": [
    "random_sleep()"
   ]
  }
 ],
 "metadata": {
  "kernelspec": {
   "display_name": "Python 3.9.7 ('base')",
   "language": "python",
   "name": "python3"
  },
  "language_info": {
   "codemirror_mode": {
    "name": "ipython",
    "version": 3
   },
   "file_extension": ".py",
   "mimetype": "text/x-python",
   "name": "python",
   "nbconvert_exporter": "python",
   "pygments_lexer": "ipython3",
   "version": "3.9.7"
  },
  "orig_nbformat": 4,
  "vscode": {
   "interpreter": {
    "hash": "e42634819b8c191a5d07eaf23810ff32516dd8d3875f28ec3e488928fbd3c187"
   }
  }
 },
 "nbformat": 4,
 "nbformat_minor": 2
}
